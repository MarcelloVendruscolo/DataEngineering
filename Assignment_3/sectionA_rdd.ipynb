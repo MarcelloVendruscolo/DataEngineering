{
 "cells": [
  {
   "cell_type": "code",
   "execution_count": 10,
   "id": "rapid-corner",
   "metadata": {},
   "outputs": [],
   "source": [
    "from pyspark.sql import SparkSession\n",
    "\n",
    "\n",
    "# New API\n",
    "spark_session = SparkSession\\\n",
    "        .builder\\\n",
    "        .master(\"spark://192.168.2.113:7077\") \\\n",
    "        .appName(\"marcelloVendruscolo_A1\")\\\n",
    "        .config(\"spark.dynamicAllocation.enabled\", True)\\\n",
    "        .config(\"spark.shuffle.service.enabled\", True)\\\n",
    "        .config(\"spark.dynamicAllocation.executorIdleTimeout\",\"30s\")\\\n",
    "        .config(\"spark.executor.cores\",2)\\\n",
    "        .config(\"spark.driver.port\",9998)\\\n",
    "        .config(\"spark.blockManager.port\",10005)\\\n",
    "        .getOrCreate()\n",
    "\n",
    "# Old API (RDD)\n",
    "spark_context = spark_session.sparkContext\n",
    "spark_context.setLogLevel(\"INFO\")"
   ]
  },
  {
   "cell_type": "code",
   "execution_count": 40,
   "id": "unlike-young",
   "metadata": {},
   "outputs": [],
   "source": [
    "#Function to (i) lowercase and (ii) tokenize (split on space) text\n",
    "def func_lowercase_split(rdd):\n",
    "    return rdd.lower().split(' ')"
   ]
  },
  {
   "cell_type": "code",
   "execution_count": 19,
   "id": "pediatric-overall",
   "metadata": {},
   "outputs": [
    {
     "name": "stdout",
     "output_type": "stream",
     "text": [
      "File: europarl-v7.sv-en.en\n",
      "Line counting: 1862234\n",
      "Partition counting: 2\n"
     ]
    }
   ],
   "source": [
    "#A.1.1 and A.1.4 - Read the English transcripts with Spark, and count the number of lines and partitions.\n",
    "print(\"File: europarl-v7.sv-en.en\")\n",
    "file_eng = spark_context.textFile(\"hdfs://192.168.2.113:9000/europarl/europarl-v7.sv-en.en\")\n",
    "line_count_eng = file_eng.count()\n",
    "print(\"Line counting: \" + str(line_count_eng))\n",
    "print(\"Partition counting: \" + str(file_eng.getNumPartitions()))"
   ]
  },
  {
   "cell_type": "code",
   "execution_count": 52,
   "id": "aquatic-inclusion",
   "metadata": {},
   "outputs": [
    {
     "name": "stdout",
     "output_type": "stream",
     "text": [
      "File: europarl-v7.sv-en.sv\n",
      "Line counting: 1862234\n",
      "Partition counting: 3\n"
     ]
    }
   ],
   "source": [
    "#A.1.2 and A.1.4 - Read the Swedish transcripts with Spark, and count the number of lines and partitions.\n",
    "print(\"File: europarl-v7.sv-en.sv\")\n",
    "file_sv = spark_context.textFile(\"hdfs://192.168.2.113:9000/europarl/europarl-v7.sv-en.sv\")\n",
    "line_count_sv = file_sv.count()\n",
    "print(\"Line counting: \" + str(line_count_sv))\n",
    "print(\"Partition counting: \" + str(file_sv.getNumPartitions()))"
   ]
  },
  {
   "cell_type": "code",
   "execution_count": 37,
   "id": "listed-chuck",
   "metadata": {},
   "outputs": [
    {
     "name": "stdout",
     "output_type": "stream",
     "text": [
      "The line counts are the same for both europarl-v7.sv-en.en and europarl-v7.sv-en.sv?\n",
      "True\n"
     ]
    }
   ],
   "source": [
    "#A.1.3 - Verify that the line counts are the same for the two languages.\n",
    "print(\"The line counts are the same for both europarl-v7.sv-en.en and europarl-v7.sv-en.sv?\\n\" + str(line_count_eng == line_count_sv))"
   ]
  },
  {
   "cell_type": "code",
   "execution_count": 55,
   "id": "associate-illinois",
   "metadata": {},
   "outputs": [],
   "source": [
    "#A.2.1 Pre-process the text from both RDDs by lowercase-ing and tokenize-ing (split on space) the text:\n",
    "file_eng_lc = file_eng.map(func_lowercase_split)\n",
    "file_sv_lc = file_sv.map(func_lowercase_split)"
   ]
  },
  {
   "cell_type": "code",
   "execution_count": 57,
   "id": "vulnerable-penalty",
   "metadata": {},
   "outputs": [
    {
     "name": "stdout",
     "output_type": "stream",
     "text": [
      "The line counts are the same for europarl-v7.sv-en.en before and after processing?\n",
      "True\n",
      "The line counts are the same for europarl-v7.sv-en.sv before and after processing?\n",
      "True\n"
     ]
    }
   ],
   "source": [
    "#A.2.3 Verify that the line counts still match after the pre-processing.\n",
    "print(\"The line counts are the same for europarl-v7.sv-en.en before and after processing?\\n\" + str(line_count_eng == file_eng_lc.count()))\n",
    "print(\"The line counts are the same for europarl-v7.sv-en.sv before and after processing?\\n\" + str(line_count_sv == file_sv_lc.count()))"
   ]
  },
  {
   "cell_type": "code",
   "execution_count": 9,
   "id": "southern-collector",
   "metadata": {},
   "outputs": [],
   "source": [
    "# release the cores for another application!\n",
    "spark_context.stop()"
   ]
  }
 ],
 "metadata": {
  "kernelspec": {
   "display_name": "Python 3",
   "language": "python",
   "name": "python3"
  },
  "language_info": {
   "codemirror_mode": {
    "name": "ipython",
    "version": 3
   },
   "file_extension": ".py",
   "mimetype": "text/x-python",
   "name": "python",
   "nbconvert_exporter": "python",
   "pygments_lexer": "ipython3",
   "version": "3.8.5"
  }
 },
 "nbformat": 4,
 "nbformat_minor": 5
}
