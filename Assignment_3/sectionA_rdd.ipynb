{
 "cells": [
  {
   "cell_type": "code",
   "execution_count": 1,
   "id": "north-hindu",
   "metadata": {},
   "outputs": [],
   "source": [
    "from pyspark.sql import SparkSession\n",
    "\n",
    "#New API\n",
    "spark_session = SparkSession\\\n",
    "        .builder\\\n",
    "        .master(\"spark://192.168.2.113:7077\") \\\n",
    "        .appName(\"marcelloVendruscolo_Assignment3_pA\")\\\n",
    "        .config(\"spark.dynamicAllocation.enabled\", True)\\\n",
    "        .config(\"spark.shuffle.service.enabled\", True)\\\n",
    "        .config(\"spark.dynamicAllocation.executorIdleTimeout\",\"30s\")\\\n",
    "        .config(\"spark.executor.cores\",2)\\\n",
    "        .config(\"spark.driver.port\",9998)\\\n",
    "        .config(\"spark.blockManager.port\",10005)\\\n",
    "        .getOrCreate()\n",
    "\n",
    "#Old API (RDD)\n",
    "spark_context = spark_session.sparkContext\n",
    "spark_context.setLogLevel(\"INFO\")"
   ]
  },
  {
   "cell_type": "code",
   "execution_count": 2,
   "id": "thrown-terry",
   "metadata": {},
   "outputs": [],
   "source": [
    "#Helper function to (i) lowercase and (ii) tokenize (split on space) text.\n",
    "def func_lowercase_split(rdd):\n",
    "    return rdd.lower().split(' ')"
   ]
  },
  {
   "cell_type": "code",
   "execution_count": 3,
   "id": "natural-allen",
   "metadata": {},
   "outputs": [
    {
     "name": "stdout",
     "output_type": "stream",
     "text": [
      "File: europarl-v7.sv-en.en\n",
      "\n",
      "Line countig: 1862234\n",
      "Partition counting: 2\n"
     ]
    }
   ],
   "source": [
    "#A.1.1 and A.1.4 - Read the English transcripts with Spark, and count the number of lines and partitions.\n",
    "print(\"File: europarl-v7.sv-en.en\\n\")\n",
    "en_1 = spark_context.textFile(\"hdfs://192.168.2.113:9000/europarl/europarl-v7.sv-en.en\")\n",
    "lineCount_en_1 = en_1.count()\n",
    "print(\"Line countig: \" + str(lineCount_en_1))\n",
    "print(\"Partition counting: \" + str(en_1.getNumPartitions()))"
   ]
  },
  {
   "cell_type": "code",
   "execution_count": 4,
   "id": "protecting-grade",
   "metadata": {},
   "outputs": [
    {
     "name": "stdout",
     "output_type": "stream",
     "text": [
      "File: europarl-v7.sv-en.sv\n",
      "\n",
      "Line counting: 1862234\n",
      "Partition counting: 3\n"
     ]
    }
   ],
   "source": [
    "#A.1.2 and A.1.4 - Read the Swedish transcripts with Spark, and count the number of lines and partitions.\n",
    "print(\"File: europarl-v7.sv-en.sv\\n\")\n",
    "sv_1 = spark_context.textFile(\"hdfs://192.168.2.113:9000/europarl/europarl-v7.sv-en.sv\")\n",
    "lineCount_sv_1 = sv_1.count()\n",
    "print(\"Line counting: \" + str(lineCount_sv_1))\n",
    "print(\"Partition counting: \" + str(sv_1.getNumPartitions()))"
   ]
  },
  {
   "cell_type": "code",
   "execution_count": 5,
   "id": "adjacent-parameter",
   "metadata": {},
   "outputs": [
    {
     "name": "stdout",
     "output_type": "stream",
     "text": [
      "The line counts are the same for both europarl-v7.sv-en.en and europarl-v7.sv-en.sv: True\n"
     ]
    }
   ],
   "source": [
    "#A.1.3 - Verify that the line counts are the same for the two languages.\n",
    "print(\"The line counts are the same for both europarl-v7.sv-en.en and europarl-v7.sv-en.sv: \" + str(lineCount_en_1 == lineCount_sv_1))"
   ]
  },
  {
   "cell_type": "code",
   "execution_count": 6,
   "id": "previous-means",
   "metadata": {},
   "outputs": [],
   "source": [
    "#A.2.1 - Preprocess the text from both RDDs by lowercase-ing and tokenize-ing (split on space) the text:\n",
    "en_2 = en_1.map(func_lowercase_split)\n",
    "sv_2 = sv_1.map(func_lowercase_split)"
   ]
  },
  {
   "cell_type": "code",
   "execution_count": 7,
   "id": "aging-manner",
   "metadata": {},
   "outputs": [
    {
     "name": "stdout",
     "output_type": "stream",
     "text": [
      "10 entries from the English corpus after pre-processing:\n",
      "\n",
      "[['resumption', 'of', 'the', 'session'], ['i', 'declare', 'resumed', 'the', 'session', 'of', 'the', 'european', 'parliament', 'adjourned', 'on', 'friday', '17', 'december', '1999,', 'and', 'i', 'would', 'like', 'once', 'again', 'to', 'wish', 'you', 'a', 'happy', 'new', 'year', 'in', 'the', 'hope', 'that', 'you', 'enjoyed', 'a', 'pleasant', 'festive', 'period.'], ['although,', 'as', 'you', 'will', 'have', 'seen,', 'the', 'dreaded', \"'millennium\", \"bug'\", 'failed', 'to', 'materialise,', 'still', 'the', 'people', 'in', 'a', 'number', 'of', 'countries', 'suffered', 'a', 'series', 'of', 'natural', 'disasters', 'that', 'truly', 'were', 'dreadful.'], ['you', 'have', 'requested', 'a', 'debate', 'on', 'this', 'subject', 'in', 'the', 'course', 'of', 'the', 'next', 'few', 'days,', 'during', 'this', 'part-session.'], ['in', 'the', 'meantime,', 'i', 'should', 'like', 'to', 'observe', 'a', \"minute'\", 's', 'silence,', 'as', 'a', 'number', 'of', 'members', 'have', 'requested,', 'on', 'behalf', 'of', 'all', 'the', 'victims', 'concerned,', 'particularly', 'those', 'of', 'the', 'terrible', 'storms,', 'in', 'the', 'various', 'countries', 'of', 'the', 'european', 'union.'], ['please', 'rise,', 'then,', 'for', 'this', \"minute'\", 's', 'silence.'], ['(the', 'house', 'rose', 'and', 'observed', 'a', \"minute'\", 's', 'silence)'], ['madam', 'president,', 'on', 'a', 'point', 'of', 'order.'], ['you', 'will', 'be', 'aware', 'from', 'the', 'press', 'and', 'television', 'that', 'there', 'have', 'been', 'a', 'number', 'of', 'bomb', 'explosions', 'and', 'killings', 'in', 'sri', 'lanka.'], ['one', 'of', 'the', 'people', 'assassinated', 'very', 'recently', 'in', 'sri', 'lanka', 'was', 'mr', 'kumar', 'ponnambalam,', 'who', 'had', 'visited', 'the', 'european', 'parliament', 'just', 'a', 'few', 'months', 'ago.']]\n",
      "\n",
      "10 entries from the Swedish corpus after pre-processing:\n",
      "\n",
      "[['återupptagande', 'av', 'sessionen'], ['jag', 'förklarar', 'europaparlamentets', 'session', 'återupptagen', 'efter', 'avbrottet', 'den', '17', 'december.', 'jag', 'vill', 'på', 'nytt', 'önska', 'er', 'ett', 'gott', 'nytt', 'år', 'och', 'jag', 'hoppas', 'att', 'ni', 'haft', 'en', 'trevlig', 'semester.'], ['som', 'ni', 'kunnat', 'konstatera', 'ägde', '\"den', 'stora', 'år', '2000-buggen\"', 'aldrig', 'rum.', 'däremot', 'har', 'invånarna', 'i', 'ett', 'antal', 'av', 'våra', 'medlemsländer', 'drabbats', 'av', 'naturkatastrofer', 'som', 'verkligen', 'varit', 'förskräckliga.'], ['ni', 'har', 'begärt', 'en', 'debatt', 'i', 'ämnet', 'under', 'sammanträdesperiodens', 'kommande', 'dagar.'], ['till', 'dess', 'vill', 'jag', 'att', 'vi,', 'som', 'ett', 'antal', 'kolleger', 'begärt,', 'håller', 'en', 'tyst', 'minut', 'för', 'offren', 'för', 'bl.a.', 'stormarna', 'i', 'de', 'länder', 'i', 'europeiska', 'unionen', 'som', 'drabbats.'], ['jag', 'ber', 'er', 'resa', 'er', 'för', 'en', 'tyst', 'minut.'], ['(parlamentet', 'höll', 'en', 'tyst', 'minut.)'], ['fru', 'talman!', 'det', 'gäller', 'en', 'ordningsfråga.'], ['ni', 'känner', 'till', 'från', 'media', 'att', 'det', 'skett', 'en', 'rad', 'bombexplosioner', 'och', 'mord', 'i', 'sri', 'lanka.'], ['en', 'av', 'de', 'personer', 'som', 'mycket', 'nyligen', 'mördades', 'i', 'sri', 'lanka', 'var', 'kumar', 'ponnambalam,', 'som', 'besökte', 'europaparlamentet', 'för', 'bara', 'några', 'månader', 'sedan.']]\n"
     ]
    }
   ],
   "source": [
    "#A.2.2 - Inspect 10 entries from each of your RDDs to verify your pre-processing.\n",
    "print(\"10 entries from the English corpus after pre-processing:\\n\")\n",
    "print(en_2.take(10))\n",
    "print(\"\\n10 entries from the Swedish corpus after pre-processing:\\n\")\n",
    "print(sv_2.take(10))"
   ]
  },
  {
   "cell_type": "code",
   "execution_count": 8,
   "id": "coated-reynolds",
   "metadata": {},
   "outputs": [
    {
     "name": "stdout",
     "output_type": "stream",
     "text": [
      "The line counts are the same for europarl-v7.sv-en.en before and after processing: True\n",
      "The line counts are the same for europarl-v7.sv-en.sv before and after processing: True\n",
      "The line counts are the same for both europarl-v7.sv-en.en and europarl-v7.sv-en.sv after processing: True\n"
     ]
    }
   ],
   "source": [
    "#A.2.3 Verify that the line counts still match after the pre-processing.\n",
    "lineCount_en_2 = en_2.count()\n",
    "lineCount_sv_2 = sv_2.count()\n",
    "print(\"The line counts are the same for europarl-v7.sv-en.en before and after processing: \" + str(lineCount_en_1 == lineCount_en_2))\n",
    "print(\"The line counts are the same for europarl-v7.sv-en.sv before and after processing: \" + str(lineCount_sv_1 == lineCount_sv_2))\n",
    "print(\"The line counts are the same for both europarl-v7.sv-en.en and europarl-v7.sv-en.sv after processing: \" + str(lineCount_en_2 == lineCount_sv_2))"
   ]
  },
  {
   "cell_type": "code",
   "execution_count": 9,
   "id": "thick-institute",
   "metadata": {},
   "outputs": [
    {
     "name": "stdout",
     "output_type": "stream",
     "text": [
      "The 10 most frequent words in the English corpus:\n",
      "\n",
      "[('the', 3498375), ('of', 1659758), ('to', 1539760), ('and', 1288401), ('in', 1085993), ('that', 797516), ('a', 773522), ('is', 758050), ('for', 534242), ('we', 522849)]\n",
      "\n",
      "The 10 most frequent words in the Swedish corpus:\n",
      "\n",
      "[('att', 1706293), ('och', 1344830), ('i', 1050774), ('det', 924866), ('som', 913276), ('för', 908680), ('av', 738068), ('är', 694381), ('en', 620310), ('vi', 539797)]\n"
     ]
    }
   ],
   "source": [
    "#A.3.1 - Use Spark to compute the 10 most frequently according words in the English and Swedish language corpus.\n",
    "print(\"The 10 most frequent words in the English corpus:\\n\")\n",
    "print(en_2.flatMap(lambda x: x).map(lambda x: (x, 1)).reduceByKey(lambda x, y: x + y).takeOrdered(10, key = lambda x: -x[1]))\n",
    "print(\"\\nThe 10 most frequent words in the Swedish corpus:\\n\")\n",
    "print(sv_2.flatMap(lambda x: x).map(lambda x: (x, 1)).reduceByKey(lambda x, y: x + y).takeOrdered(10, key = lambda x: -x[1]))"
   ]
  },
  {
   "cell_type": "code",
   "execution_count": 10,
   "id": "likely-bicycle",
   "metadata": {},
   "outputs": [
    {
     "name": "stdout",
     "output_type": "stream",
     "text": [
      "Some of the most frequently occurring pairs of words:\n",
      "\n",
      "[(('is', 'är'), 16331), (('we', 'vi'), 11983), (('i', 'jag'), 11451), (('and', 'och'), 9819), (('a', 'en'), 6536), (('it', 'det'), 6360), (('this', 'detta'), 6125), (('in', 'i'), 5974), (('not', 'inte'), 5285), (('to', 'att'), 4926), (('that', 'att'), 4266), (('the', 'den'), 4137), (('a', 'ett'), 4084), (('that', 'det'), 3959), (('have', 'har'), 3943), (('of', 'av'), 3861), (('for', 'för'), 3780), (('the', 'det'), 3336), (('are', 'är'), 3166), (('there', 'det'), 3032)]\n"
     ]
    }
   ],
   "source": [
    "#A.4.1 - Use this parallel corpus to mine some translations in the form of word pairs, for the two languages.\n",
    "en_3 = en_2.zipWithIndex().map(lambda x: (x[1],x[0]))\n",
    "sv_3 = sv_2.zipWithIndex().map(lambda x: (x[1],x[0]))\n",
    "en_sv_0 = en_3.join(sv_3)\n",
    "en_sv_1 = en_sv_0.filter(lambda x: (not x[1][0] is None) and (not x[1][1] is None)) #line pairs that have an empty/missing “corresponding” sentence.\n",
    "en_sv_2 = en_sv_1.filter(lambda x: ((len(x[1][0]) <= 15) and (len(x[1][1]) <= 15)))\n",
    "en_sv_3 = en_sv_2.filter(lambda x: ((len(x[1][0]) >= 2) and (len(x[1][1]) >= 2))) #filter out sentences that are too short.\n",
    "en_sv_4 = en_sv_3.filter(lambda x: (len(x[1][0]) == len(x[1][1])))\n",
    "en_sv = en_sv_4.map(lambda x: list(zip(x[1][0],x[1][1]))).flatMap(lambda x: x)\n",
    "print(\"Some of the most frequently occurring pairs of words:\\n\")\n",
    "print(en_sv.map(lambda x: (x, 1)).reduceByKey(lambda x, y: x + y).takeOrdered(20, key = lambda x: -x[1]))"
   ]
  },
  {
   "cell_type": "code",
   "execution_count": 11,
   "id": "rotary-tiger",
   "metadata": {},
   "outputs": [],
   "source": [
    "#Release the cores for another application!\n",
    "spark_context.stop()"
   ]
  }
 ],
 "metadata": {
  "kernelspec": {
   "display_name": "Python 3",
   "language": "python",
   "name": "python3"
  },
  "language_info": {
   "codemirror_mode": {
    "name": "ipython",
    "version": 3
   },
   "file_extension": ".py",
   "mimetype": "text/x-python",
   "name": "python",
   "nbconvert_exporter": "python",
   "pygments_lexer": "ipython3",
   "version": "3.7.4"
  }
 },
 "nbformat": 4,
 "nbformat_minor": 5
}
