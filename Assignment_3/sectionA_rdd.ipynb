{
 "cells": [
  {
   "cell_type": "code",
   "execution_count": 1,
   "id": "reserved-counter",
   "metadata": {},
   "outputs": [],
   "source": [
    "from pyspark.sql import SparkSession\n",
    "\n",
    "# New API\n",
    "spark_session = SparkSession\\\n",
    "        .builder\\\n",
    "        .master(\"spark://192.168.2.113:7077\") \\\n",
    "        .appName(\"marcelloVendruscolo_A1\")\\\n",
    "        .config(\"spark.dynamicAllocation.enabled\", True)\\\n",
    "        .config(\"spark.shuffle.service.enabled\", True)\\\n",
    "        .config(\"spark.dynamicAllocation.executorIdleTimeout\",\"30s\")\\\n",
    "        .config(\"spark.executor.cores\",2)\\\n",
    "        .config(\"spark.driver.port\",9998)\\\n",
    "        .config(\"spark.blockManager.port\",10005)\\\n",
    "        .getOrCreate()\n",
    "\n",
    "# Old API (RDD)\n",
    "spark_context = spark_session.sparkContext\n",
    "spark_context.setLogLevel(\"INFO\")"
   ]
  },
  {
   "cell_type": "code",
   "execution_count": 22,
   "id": "comfortable-biodiversity",
   "metadata": {},
   "outputs": [
    {
     "name": "stdout",
     "output_type": "stream",
     "text": [
      "File: europarl-v7.sv-en.en\n",
      "Line counting: 1862234\n"
     ]
    }
   ],
   "source": [
    "#A.1.1 - Read the English transcripts with Spark, and count the number of lines.\n",
    "print(\"File: europarl-v7.sv-en.en\")\n",
    "file_eng = spark_context.textFile(\"hdfs://192.168.2.113:9000/europarl/europarl-v7.sv-en.en\")\n",
    "line_count_eng = file_eng.count()\n",
    "print(\"Line counting: \" + str(line_count_eng))"
   ]
  },
  {
   "cell_type": "code",
   "execution_count": 23,
   "id": "endangered-questionnaire",
   "metadata": {},
   "outputs": [
    {
     "name": "stdout",
     "output_type": "stream",
     "text": [
      "File: europarl-v7.sv-en.sv\n",
      "Line counting: 1862234\n"
     ]
    }
   ],
   "source": [
    "#A.1.2 - Read the Swedish transcripts with Spark, and count the number of lines.\n",
    "print(\"File: europarl-v7.sv-en.sv\")\n",
    "file_sv = spark_context.textFile(\"hdfs://192.168.2.113:9000/europarl/europarl-v7.sv-en.sv\")\n",
    "line_count_sv = file_sv.count()\n",
    "print(\"Line counting: \" + str(line_count_sv))\n"
   ]
  },
  {
   "cell_type": "code",
   "execution_count": 24,
   "id": "civil-madison",
   "metadata": {},
   "outputs": [
    {
     "name": "stdout",
     "output_type": "stream",
     "text": [
      "The line counts are EQUAL for the two languages.\n"
     ]
    }
   ],
   "source": [
    "#A.1.3 - Verify that the line counts are the same for the two languages.\n",
    "if (line_count_eng == line_count_sv):\n",
    "    print(\"The line counts are EQUAL for the two languages.\")\n",
    "else:\n",
    "    print(\"The line counts are DIFFERENT for the two languages.\")"
   ]
  },
  {
   "cell_type": "code",
   "execution_count": 25,
   "id": "caroline-vertical",
   "metadata": {},
   "outputs": [
    {
     "name": "stdout",
     "output_type": "stream",
     "text": [
      "Partition counting: 2\n",
      "Partition counting: 3\n"
     ]
    }
   ],
   "source": [
    "#A.1.4 Count the number of partitions.\n",
    "print(\"Partition counting: \" + str(file_eng.getNumPartitions()))\n",
    "print(\"Partition counting: \" + str(file_sv.getNumPartitions()))"
   ]
  },
  {
   "cell_type": "code",
   "execution_count": 26,
   "id": "suitable-projector",
   "metadata": {},
   "outputs": [],
   "source": [
    "# release the cores for another application!\n",
    "#spark_context.stop()"
   ]
  }
 ],
 "metadata": {
  "kernelspec": {
   "display_name": "Python 3",
   "language": "python",
   "name": "python3"
  },
  "language_info": {
   "codemirror_mode": {
    "name": "ipython",
    "version": 3
   },
   "file_extension": ".py",
   "mimetype": "text/x-python",
   "name": "python",
   "nbconvert_exporter": "python",
   "pygments_lexer": "ipython3",
   "version": "3.8.5"
  }
 },
 "nbformat": 4,
 "nbformat_minor": 5
}
