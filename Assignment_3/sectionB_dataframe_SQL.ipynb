{
 "cells": [
  {
   "cell_type": "code",
   "execution_count": 1,
   "id": "behind-package",
   "metadata": {},
   "outputs": [],
   "source": [
    "from pprint import pprint\n",
    "from pyspark.sql import SparkSession\n",
    "from pyspark.sql.functions import udf\n",
    "from pyspark.sql.types import FloatType, StringType\n",
    "\n",
    "# New API\n",
    "spark_session = SparkSession\\\n",
    "        .builder\\\n",
    "        .master(\"spark://192.168.2.113:7077\") \\\n",
    "        .config(\"spark.dynamicAllocation.enabled\", True)\\\n",
    "        .config(\"spark.shuffle.service.enabled\", True)\\\n",
    "        .config(\"spark.dynamicAllocation.executorIdleTimeout\",\"30s\")\\\n",
    "        .config(\"spark.executor.cores\",3)\\\n",
    "        .config(\"spark.driver.port\",9998)\\\n",
    "        .config(\"spark.blockManager.port\",10005)\\\n",
    "        .appName(\"marcelloVendruscolo_Assignment3_pB\")\\\n",
    "        .getOrCreate()\n",
    "\n",
    "# Old API (RDD)\n",
    "spark_context = spark_session.sparkContext"
   ]
  },
  {
   "cell_type": "code",
   "execution_count": 2,
   "id": "finished-transaction",
   "metadata": {},
   "outputs": [],
   "source": [
    "#User Defined Functions.\n",
    "def string_to_float(fine_amount):\n",
    "    try:\n",
    "        return float(fine_amount)\n",
    "    except:\n",
    "        return 0\n",
    "\n",
    "def expand_colour_names(original_colour):\n",
    "    COLORS = {'AL':'Aluminum', 'AM':'Amber', 'BG':'Beige', 'BK':'Black', 'BL':'Blue', 'BN':'Brown',\\\n",
    "              'BR':'Brown', 'BZ':'Bronze', 'CH':'Charcoal', 'DK':'Dark', 'GD':'Gold', 'GO':'Gold',\\\n",
    "              'GN':'Green', 'GY':'Gray', 'GT':'Granite', 'IV':'Ivory', 'LT':'Light', 'OL':'Olive',\\\n",
    "              'OR':'Orange', 'MR':'Maroon', 'PK':'Pink', 'RD':'Red', 'RE':'Red', 'SI':'Silver',\\\n",
    "              'SL':'Silver', 'SM':'Smoke', 'TN':'Tan', 'VT':'Violet', 'WT':'White', 'WH':'White',\\\n",
    "              'YL':'Yellow', 'YE':'Yellow', 'UN':'Unknown'}\n",
    "    extended_colour = COLORS.get(original_colour)\n",
    "    if(not extended_colour is None):\n",
    "        return extended_colour\n",
    "    return original_colour"
   ]
  },
  {
   "cell_type": "code",
   "execution_count": 3,
   "id": "sharp-stopping",
   "metadata": {},
   "outputs": [
    {
     "name": "stdout",
     "output_type": "stream",
     "text": [
      "+-------------+-------------------+----------+--------+-----------+--------------+-----------------+----+----+----------+-----+--------------------+-----+------+--------------+---------------------+-----------+---------+---------+\n",
      "|Ticket number|         Issue Date|Issue time|Meter Id|Marked Time|RP State Plate|Plate Expiry Date| VIN|Make|Body Style|Color|            Location|Route|Agency|Violation code|Violation Description|Fine amount| Latitude|Longitude|\n",
      "+-------------+-------------------+----------+--------+-----------+--------------+-----------------+----+----+----------+-----+--------------------+-----+------+--------------+---------------------+-----------+---------+---------+\n",
      "|   1103341116|2015-12-21T00:00:00|      1251|    null|       null|            CA|           200304|null|HOND|        PA|   GY|     13147 WELBY WAY|01521|     1|        4000A1|   NO EVIDENCE OF REG|         50|    99999|    99999|\n",
      "|   1103700150|2015-12-21T00:00:00|      1435|    null|       null|            CA|           201512|null| GMC|        VN|   WH|       525 S MAIN ST| 1C51|     1|        4000A1|   NO EVIDENCE OF REG|         50|    99999|    99999|\n",
      "|   1104803000|2015-12-21T00:00:00|      2055|    null|       null|            CA|           201503|null|NISS|        PA|   BK|       200 WORLD WAY|  2R2|     2|          8939|           WHITE CURB|         58|6439997.9|1802686.4|\n",
      "|   1104820732|2015-12-26T00:00:00|      1515|    null|       null|            CA|             null|null|ACUR|        PA|   WH|       100 WORLD WAY| 2F11|     2|           000|               17104h|       null|6440041.1|1802686.2|\n",
      "|   1105461453|2015-09-15T00:00:00|       115|    null|       null|            CA|           200316|null|CHEV|        PA|   BK|  GEORGIA ST/OLYMPIC|1FB70|     1|         8069A| NO STOPPING/STANDING|         93|    99999|    99999|\n",
      "|   1106226590|2015-09-15T00:00:00|        19|    null|       null|            CA|           201507|null|CHEV|        VN|   GY|  SAN PEDRO S/O BOYD|1A35W|     1|        4000A1|   NO EVIDENCE OF REG|         50|    99999|    99999|\n",
      "|   1106500452|2015-12-17T00:00:00|      1710|    null|       null|            CA|           201605|null|MAZD|        PA|   BL|     SUNSET/ALVARADO|00217|     1|          8070| PARK IN GRID LOCK ZN|        163|    99999|    99999|\n",
      "|   1106500463|2015-12-17T00:00:00|      1710|    null|       null|            CA|           201602|null|TOYO|        PA|   BK|     SUNSET/ALVARADO|00217|     1|          8070| PARK IN GRID LOCK ZN|        163|    99999|    99999|\n",
      "|   1106506402|2015-12-22T00:00:00|       945|    null|       null|            CA|           201605|null|CHEV|        PA|   BR|      721 S WESTLAKE| 2A75|     1|        8069AA|     NO STOP/STAND AM|         93|    99999|    99999|\n",
      "|   1106506413|2015-12-22T00:00:00|      1100|    null|       null|            CA|           201701|null|NISS|        PA|   SI|     1159 HUNTLEY DR| 2A75|     1|        8069AA|     NO STOP/STAND AM|         93|    99999|    99999|\n",
      "|   1106506424|2015-12-22T00:00:00|      1100|    null|       null|            CA|           201511|null|FORD|        TR|   WH|     1159 HUNTLEY DR| 2A75|     1|        8069AA|     NO STOP/STAND AM|         93|    99999|    99999|\n",
      "|   1106506435|2015-12-22T00:00:00|      1105|    null|       null|            CA|           201701|null|CHRY|        PA|   GO|     1159 HUNTLEY DR| 2A75|     1|        8069AA|     NO STOP/STAND AM|         93|    99999|    99999|\n",
      "|   1106506446|2015-12-22T00:00:00|      1110|    null|       null|            CA|           201511|null| BMW|        PA|   BK|      1200 W MIRAMAR| 2A75|     1|        4000A1|   NO EVIDENCE OF REG|         50|    99999|    99999|\n",
      "|   1106549754|2015-12-15T00:00:00|       825|    null|       null|            CA|           201607|null|PTRB|        TR|   BK|           4TH/STATE| CM96|     1|         8069A| NO STOPPING/STANDING|         93|    99999|    99999|\n",
      "|   1107179581|2015-12-27T00:00:00|      1055|    null|       null|            CA|           201605|null|TOYO|        PA|   BK|3100 N HOLLYRIDGE DR| null|    54|         8058L|         PREF PARKING|         68|    99999|    99999|\n",
      "|   1107179592|2015-12-27T00:00:00|      1200|    null|       null|            CA|           201602|null|MBNZ|        PA|   BK|   3115 N BERENDO DR| null|    54|         8058L|         PREF PARKING|         68|    99999|    99999|\n",
      "|   1107179603|2015-12-27T00:00:00|      1400|    null|       null|            CA|           201611|null|NISS|        PA|   WH| 3100 N BEACHWOOD DR| null|    54|         8058L|         PREF PARKING|         68|    99999|    99999|\n",
      "|   1107539823|2015-09-16T00:00:00|      2120|    null|       null|            CA|           201502|null|NISS|        PA| null|      BLAINE/11TH PL|1FB95|     1|        4000A1|   NO EVIDENCE OF REG|         50|    99999|    99999|\n",
      "|   1107539834|2015-09-16T00:00:00|      1045|    null|       null|            CA|             null|null|CHEV|        PA|   BK|  1246 S FIGUEROA ST| 1L20|     1|        8069AP|     NO STOP/STAND PM|         93|    99999|    99999|\n",
      "|   1107780811|2015-12-22T00:00:00|      1102|    null|       null|            CA|           201606|null|HOND|        PA|   BK|       PLATA/RAMPART|  2A1|     1|         8069B|           NO PARKING|         73|    99999|    99999|\n",
      "+-------------+-------------------+----------+--------+-----------+--------------+-----------------+----+----+----------+-----+--------------------+-----+------+--------------+---------------------+-----------+---------+---------+\n",
      "only showing top 20 rows\n",
      "\n"
     ]
    }
   ],
   "source": [
    "#B.1 - Load the CSV file from HDFS, and call show() to verify the data is loaded correctly.\n",
    "data_frame = spark_session.read\\\n",
    "    .option(\"header\", \"true\")\\\n",
    "    .csv('hdfs://192.168.2.113:9000/parking-citations.csv')\n",
    "data_frame.show()"
   ]
  },
  {
   "cell_type": "code",
   "execution_count": 4,
   "id": "cooked-mexican",
   "metadata": {},
   "outputs": [
    {
     "name": "stdout",
     "output_type": "stream",
     "text": [
      "Schema for the DataFrame:\n",
      "\n",
      "root\n",
      " |-- Ticket number: string (nullable = true)\n",
      " |-- Issue Date: string (nullable = true)\n",
      " |-- Issue time: string (nullable = true)\n",
      " |-- Meter Id: string (nullable = true)\n",
      " |-- Marked Time: string (nullable = true)\n",
      " |-- RP State Plate: string (nullable = true)\n",
      " |-- Plate Expiry Date: string (nullable = true)\n",
      " |-- VIN: string (nullable = true)\n",
      " |-- Make: string (nullable = true)\n",
      " |-- Body Style: string (nullable = true)\n",
      " |-- Color: string (nullable = true)\n",
      " |-- Location: string (nullable = true)\n",
      " |-- Route: string (nullable = true)\n",
      " |-- Agency: string (nullable = true)\n",
      " |-- Violation code: string (nullable = true)\n",
      " |-- Violation Description: string (nullable = true)\n",
      " |-- Fine amount: string (nullable = true)\n",
      " |-- Latitude: string (nullable = true)\n",
      " |-- Longitude: string (nullable = true)\n",
      "\n"
     ]
    }
   ],
   "source": [
    "#B.2 - Print the schema for the DataFrame.\n",
    "print(\"Schema for the DataFrame:\\n\")\n",
    "data_frame.printSchema()"
   ]
  },
  {
   "cell_type": "code",
   "execution_count": 5,
   "id": "trying-authorization",
   "metadata": {},
   "outputs": [
    {
     "name": "stdout",
     "output_type": "stream",
     "text": [
      "Number of rows in the CSV files: 9257460\n"
     ]
    }
   ],
   "source": [
    "#B.3 - Count the number of rows in the CSV file.\n",
    "print(\"Number of rows in the CSV files: \" + str(data_frame.count()))"
   ]
  },
  {
   "cell_type": "code",
   "execution_count": 6,
   "id": "former-medium",
   "metadata": {},
   "outputs": [
    {
     "name": "stdout",
     "output_type": "stream",
     "text": [
      "Number of partitions in the underlying RDD: 10\n"
     ]
    }
   ],
   "source": [
    "#B.4 - Count the number of partitions in the underlying RDD.\n",
    "print(\"Number of partitions in the underlying RDD: \" + str(data_frame.rdd.getNumPartitions()))"
   ]
  },
  {
   "cell_type": "code",
   "execution_count": 7,
   "id": "wooden-current",
   "metadata": {},
   "outputs": [],
   "source": [
    "#B.5 - Drop the columns VIN, Latitude and Longitude.\n",
    "data_frame_reduced = data_frame.drop(*['VIN', 'Latitude', 'Longitude'])"
   ]
  },
  {
   "cell_type": "code",
   "execution_count": 8,
   "id": "cordless-cameroon",
   "metadata": {},
   "outputs": [
    {
     "name": "stdout",
     "output_type": "stream",
     "text": [
      "The maximum fine amount: 505.0\n",
      "The number of fines corresponding to the maximum fine: 6\n"
     ]
    }
   ],
   "source": [
    "#B.6 - Find the maximum fine amount. How many fines have this amount?\n",
    "udf_string_to_float = udf(string_to_float, FloatType())\n",
    "data_frame = data_frame.withColumn('Float fine amount', udf_string_to_float('Fine amount'))\n",
    "max_fine = data_frame.agg({'Float fine amount': 'max'}).collect()[0]['max(Float fine amount)']\n",
    "print(\"The maximum fine amount: \" + str(max_fine))\n",
    "max_fine_freq = data_frame.filter(data_frame['Float fine amount'] == max_fine).count()\n",
    "print(\"The number of fines corresponding to the maximum fine: \" + str(max_fine_freq))"
   ]
  },
  {
   "cell_type": "code",
   "execution_count": 9,
   "id": "seven-problem",
   "metadata": {},
   "outputs": [
    {
     "name": "stdout",
     "output_type": "stream",
     "text": [
      "The top 20 most frequent vehicle makes:\n",
      "\n",
      "+----+---------+\n",
      "|Make|Frequency|\n",
      "+----+---------+\n",
      "|TOYT|  1531949|\n",
      "|HOND|  1043276|\n",
      "|FORD|   807498|\n",
      "|NISS|   662097|\n",
      "|CHEV|   631413|\n",
      "| BMW|   422916|\n",
      "|MERZ|   376830|\n",
      "|VOLK|   316002|\n",
      "|HYUN|   285286|\n",
      "|DODG|   271590|\n",
      "|LEXS|   263269|\n",
      "| KIA|   217795|\n",
      "|JEEP|   214965|\n",
      "|AUDI|   179718|\n",
      "|MAZD|   169811|\n",
      "|OTHR|   154376|\n",
      "| GMC|   132788|\n",
      "|INFI|   120340|\n",
      "|CHRY|   120317|\n",
      "|ACUR|   111265|\n",
      "+----+---------+\n",
      "only showing top 20 rows\n",
      "\n"
     ]
    }
   ],
   "source": [
    "#B.7 - Show the top 20 most frequent vehicle makes, and their frequencies.\n",
    "print(\"The top 20 most frequent vehicle makes:\\n\")\n",
    "data_frame.groupby('Make').count().withColumnRenamed('count','Frequency').orderBy('Frequency', ascending=False).show()"
   ]
  },
  {
   "cell_type": "code",
   "execution_count": 10,
   "id": "adaptive-context",
   "metadata": {},
   "outputs": [],
   "source": [
    "#B.8 - Expand abbreviations in the color column with a User Defined Function to create a new ‘color long’ column mapping the original colors to their corresponding values in the dictionary below. If there is no key matching the original color, use the original color.\n",
    "udf_expand_colour_names = udf(expand_colour_names, StringType())\n",
    "data_frame = data_frame.withColumn('Color Long', udf_expand_colour_names('Color'))"
   ]
  },
  {
   "cell_type": "code",
   "execution_count": 11,
   "id": "armed-realtor",
   "metadata": {},
   "outputs": [
    {
     "name": "stdout",
     "output_type": "stream",
     "text": [
      "The top most frequent colour values for Toyotas (TOYT):\n",
      "\n",
      "+----------+---------+\n",
      "|Color Long|Frequency|\n",
      "+----------+---------+\n",
      "|      Gray|   346822|\n",
      "|     White|   304620|\n",
      "|     Black|   252199|\n",
      "|    Silver|   248685|\n",
      "|      Blue|   128051|\n",
      "|       Red|    84175|\n",
      "|     Green|    57627|\n",
      "|      Gold|    30154|\n",
      "|    Maroon|    19882|\n",
      "|       Tan|    17006|\n",
      "|     Beige|    11572|\n",
      "|        OT|    10805|\n",
      "|     Brown|     8466|\n",
      "|    Yellow|     3413|\n",
      "|        PR|     3010|\n",
      "|    Orange|     2527|\n",
      "|   Unknown|     1343|\n",
      "|        TU|     1077|\n",
      "|        CO|      423|\n",
      "|      Pink|       89|\n",
      "+----------+---------+\n",
      "only showing top 20 rows\n",
      "\n"
     ]
    }
   ],
   "source": [
    "#B.9 - Using this new column, what’s the most frequent colour value for Toyotas (TOYT)?\n",
    "print(\"The top most frequent colour values for Toyotas (TOYT):\\n\")\n",
    "data_frame.select('Make', 'Color Long').filter('Make == \"TOYT\"').groupby('Color Long').count().withColumnRenamed('count','Frequency').orderBy('Frequency', ascending=False).show()"
   ]
  },
  {
   "cell_type": "code",
   "execution_count": 12,
   "id": "burning-attitude",
   "metadata": {},
   "outputs": [],
   "source": [
    "#Release the cores for another application!\n",
    "spark_context.stop()"
   ]
  }
 ],
 "metadata": {
  "kernelspec": {
   "display_name": "Python 3",
   "language": "python",
   "name": "python3"
  },
  "language_info": {
   "codemirror_mode": {
    "name": "ipython",
    "version": 3
   },
   "file_extension": ".py",
   "mimetype": "text/x-python",
   "name": "python",
   "nbconvert_exporter": "python",
   "pygments_lexer": "ipython3",
   "version": "3.8.5"
  }
 },
 "nbformat": 4,
 "nbformat_minor": 5
}
